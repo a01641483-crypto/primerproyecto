{
 "cells": [
  {
   "cell_type": "code",
   "execution_count": 1,
   "id": "d86d489d",
   "metadata": {},
   "outputs": [
    {
     "name": "stdout",
     "output_type": "stream",
     "text": [
      "Variables cualitativas (categóricas):\n",
      "['track_id', 'artists', 'album_name', 'track_name', 'explicit', 'track_genre']\n",
      "\n",
      "Variables cuantitativas (numéricas):\n",
      "['Unnamed: 0', 'popularity', 'duration_ms', 'danceability', 'energy', 'key', 'loudness', 'mode', 'speechiness', 'acousticness', 'instrumentalness', 'liveness', 'valence', 'tempo', 'time_signature']\n",
      "Análisis de la variable 'popularity'\n",
      "\n",
      "Media: 33.24\n",
      "Moda: 0\n",
      "Mediana: 35.0\n",
      "Desviación estándar: 22.31\n",
      "Mínimo: 0\n",
      "Máximo: 100\n",
      "\n",
      "Conclusiones:\n",
      "La media y la mediana nos dicen el promedio de popularidad del catálogo de Spotify.\n",
      "La media y la mediana son similares, por lo que no hay un sesgo\n",
      "Una desviación alta implica mayor dispersión, es decir que hay tanto canciones exitosas como canciones poco conocidas.\n",
      "Con estos datos se puede saber si hay muchas canciones populares o si son poco conocidas.\n"
     ]
    }
   ],
   "source": [
    "\n",
    "import pandas as pd\n",
    "\n",
    "\n",
    "df = pd.read_csv(\"/Users/emilyramos/Desktop/pythom/spotify.csv\")\n",
    "\n",
    "# Tipo de dato\n",
    "cualitativas = df.select_dtypes(include=['object', 'category', 'bool']).columns.tolist()\n",
    "cuantitativas = df.select_dtypes(include=['number']).columns.tolist()\n",
    "\n",
    "print(\"Variables cualitativas (categóricas):\")\n",
    "print(cualitativas)\n",
    "\n",
    "print(\"\\nVariables cuantitativas (numéricas):\")\n",
    "print(cuantitativas)\n",
    "\n",
    "# Variable 'popularity' para el análisis\n",
    "columna = 'popularity'\n",
    "\n",
    "# Calcular medidas estadísticas\n",
    "media = df[columna].mean()\n",
    "mediana = df[columna].median()\n",
    "moda = df[columna].mode().values.tolist()\n",
    "desviacion = df[columna].std()\n",
    "minimo = df[columna].min()\n",
    "maximo = df[columna].max()\n",
    "\n",
    "# Resultados\n",
    "print(f\"Análisis de la variable '{columna}'\\n\")\n",
    "print(f\"Media: {media:.2f}\")\n",
    "print(f\"Moda: {', '.join(map(str, moda))}\")\n",
    "print(f\"Mediana: {mediana}\")\n",
    "print(f\"Desviación estándar: {desviacion:.2f}\")\n",
    "print(f\"Mínimo: {minimo}\")\n",
    "print(f\"Máximo: {maximo}\\n\")\n",
    "\n",
    "# Conclusiones\n",
    "print(\"Conclusiones:\")\n",
    "print(\"La media y la mediana nos dicen el promedio de popularidad del catálogo de Spotify.\")\n",
    "print(\"La media y la mediana son similares, por lo que no hay un sesgo\")\n",
    "print(\"Una desviación alta implica mayor dispersión, es decir que hay tanto canciones exitosas como canciones poco conocidas.\")\n",
    "print(\"Con estos datos se puede saber si hay muchas canciones populares o si son poco conocidas.\")\n"
   ]
  }
 ],
 "metadata": {
  "kernelspec": {
   "display_name": "Python 3",
   "language": "python",
   "name": "python3"
  },
  "language_info": {
   "codemirror_mode": {
    "name": "ipython",
    "version": 3
   },
   "file_extension": ".py",
   "mimetype": "text/x-python",
   "name": "python",
   "nbconvert_exporter": "python",
   "pygments_lexer": "ipython3",
   "version": "3.14.0"
  }
 },
 "nbformat": 4,
 "nbformat_minor": 5
}
